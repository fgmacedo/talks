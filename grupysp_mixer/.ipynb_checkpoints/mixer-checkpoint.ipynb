{
 "cells": [
  {
   "cell_type": "code",
   "execution_count": 11,
   "metadata": {
    "collapsed": true,
    "slideshow": {
     "slide_type": "skip"
    }
   },
   "outputs": [],
   "source": [
    "import warnings\n",
    "warnings.filterwarnings('ignore')"
   ]
  },
  {
   "cell_type": "markdown",
   "metadata": {
    "slideshow": {
     "slide_type": "slide"
    }
   },
   "source": [
    "# mixer\n",
    "\n",
    "Gerador de objetos"
   ]
  },
  {
   "cell_type": "markdown",
   "metadata": {
    "slideshow": {
     "slide_type": "slide"
    }
   },
   "source": [
    "## Problema\n",
    "\n",
    "- Escrita de testes geralmente demanda instanciar e popular vários objetos e suas dependências até que possam ser persistidos no banco de dados;"
   ]
  },
  {
   "cell_type": "markdown",
   "metadata": {
    "slideshow": {
     "slide_type": "slide"
    }
   },
   "source": [
    "## Motivação\n",
    "\n",
    "- Facilitar a escrita de testes;\n",
    " - Que dependem de registros no banco de dados ou;\n",
    " - Instâncias em memória;\n",
    "- Foco nas propriedades relevantes para o seu teste.\n",
    "- **Sem fixtures**;\n",
    "- **Sem factories**;"
   ]
  },
  {
   "cell_type": "markdown",
   "metadata": {
    "slideshow": {
     "slide_type": "slide"
    }
   },
   "source": [
    "## Setup\n",
    "\n",
    "```\n",
    "pip install mixer\n",
    "```"
   ]
  },
  {
   "cell_type": "markdown",
   "metadata": {
    "slideshow": {
     "slide_type": "slide"
    }
   },
   "source": [
    "## fake-factory\n",
    "\n",
    "fake-factory é o motor do Mixer e possui providers para gerar dados aleatórios"
   ]
  },
  {
   "cell_type": "code",
   "execution_count": 2,
   "metadata": {
    "collapsed": false,
    "slideshow": {
     "slide_type": "slide"
    }
   },
   "outputs": [
    {
     "name": "stdout",
     "output_type": "stream",
     "text": [
      "Imelda Lang\n",
      "Sable Bogisich\n",
      "Terrell Lind II\n",
      "Ms. Helena Wolf\n",
      "Redmond Stiedemann\n"
     ]
    }
   ],
   "source": [
    "from faker import Factory\n",
    "\n",
    "faker = Factory.create()\n",
    "for _ in range(5):\n",
    "    print(faker.name())"
   ]
  },
  {
   "cell_type": "code",
   "execution_count": 3,
   "metadata": {
    "collapsed": false,
    "slideshow": {
     "slide_type": "subslide"
    }
   },
   "outputs": [
    {
     "name": "stdout",
     "output_type": "stream",
     "text": [
      "Bianca Costela\n"
     ]
    }
   ],
   "source": [
    "from faker import Factory\n",
    "\n",
    "faker = Factory.create('pt_BR')\n",
    "print(faker.name())"
   ]
  },
  {
   "cell_type": "code",
   "execution_count": 4,
   "metadata": {
    "collapsed": false,
    "slideshow": {
     "slide_type": "fragment"
    }
   },
   "outputs": [
    {
     "name": "stdout",
     "output_type": "stream",
     "text": [
      "Núcleo Castro, 388\n",
      "Conjunto Jatoba\n",
      "63875355 Dias / AC\n"
     ]
    }
   ],
   "source": [
    "print(faker.address())"
   ]
  },
  {
   "cell_type": "code",
   "execution_count": 5,
   "metadata": {
    "collapsed": false,
    "slideshow": {
     "slide_type": "fragment"
    }
   },
   "outputs": [
    {
     "name": "stdout",
     "output_type": "stream",
     "text": [
      "81 6126-4767\n"
     ]
    }
   ],
   "source": [
    "print(faker.phone_number())"
   ]
  },
  {
   "cell_type": "markdown",
   "metadata": {
    "slideshow": {
     "slide_type": "slide"
    }
   },
   "source": [
    "## Instanciar objetos\n",
    "\n",
    "``` python\n",
    "from mixer.main import Mixer\n",
    "\n",
    "class SomeScheme:\n",
    "    score = int\n",
    "    name = str\n",
    "\n",
    "mixer = Mixer()\n",
    "instance = mixer.blend(SomeScheme)\n",
    "print instance.name  # Some like: 'Mike Douglass'\n",
    "\n",
    "mixer = Mixer(fake=False)\n",
    "instance = mixer.blend(SomeScheme)\n",
    "print instance.name  # Some like: 'AKJfdjh3'\n",
    "```"
   ]
  },
  {
   "cell_type": "code",
   "execution_count": 6,
   "metadata": {
    "collapsed": false,
    "slideshow": {
     "slide_type": "slide"
    }
   },
   "outputs": [],
   "source": [
    "# Dica: Usar models do Django em um IPython Notebook\n",
    "import os\n",
    "import django\n",
    "os.environ['DJANGO_SETTINGS_MODULE'] = 'conf.settings'\n",
    "django.setup()"
   ]
  },
  {
   "cell_type": "markdown",
   "metadata": {
    "slideshow": {
     "slide_type": "slide"
    }
   },
   "source": [
    "## courses/models.py\n",
    "\n",
    "``` python\n",
    "class Student(models.Model):\n",
    "    name = models.CharField(max_length=30)\n",
    "    def __str__(self): return self.name\n",
    "\n",
    "\n",
    "class Course(models.Model):\n",
    "    name = models.CharField(max_length=30)\n",
    "    def __str__(self): return self.name\n",
    "\n",
    "\n",
    "class Score(models.Model):\n",
    "    points = models.IntegerField(max_length=4)\n",
    "    course = models.ForeignKey('Course')\n",
    "    student = models.ForeignKey('Student')\n",
    "\n",
    "    def __str__(self):\n",
    "        return \"{s} has {p} points.\".format(s=self.student, p=self.points)\n",
    "```"
   ]
  },
  {
   "cell_type": "code",
   "execution_count": 17,
   "metadata": {
    "collapsed": false,
    "slideshow": {
     "slide_type": "slide"
    }
   },
   "outputs": [],
   "source": [
    "# Obter um objeto\n",
    "from mixer.backend.django import mixer\n",
    "\n",
    "score = mixer.blend('courses.Score')"
   ]
  },
  {
   "cell_type": "code",
   "execution_count": 18,
   "metadata": {
    "collapsed": false,
    "slideshow": {
     "slide_type": "fragment"
    }
   },
   "outputs": [
    {
     "name": "stdout",
     "output_type": "stream",
     "text": [
      "points:  3706\n",
      "course:  Mr. Guss Blick PhD\n",
      "student:  Macedo\n"
     ]
    }
   ],
   "source": [
    "print \"points: \", score.points\n",
    "print \"course: \", score.course\n",
    "print \"student: \", score.student"
   ]
  },
  {
   "cell_type": "code",
   "execution_count": 23,
   "metadata": {
    "collapsed": false,
    "slideshow": {
     "slide_type": "slide"
    }
   },
   "outputs": [
    {
     "name": "stdout",
     "output_type": "stream",
     "text": [
      "points:  9295\n",
      "course:  Anabelle Hudson\n",
      "student:  Macedo\n"
     ]
    }
   ],
   "source": [
    "# Iniciar variáveis relevantes ao teste\n",
    "score = mixer.blend('courses.Score', score=11, student__name='Macedo')\n",
    "print \"points: \", score.points\n",
    "print \"course: \", score.course\n",
    "print \"student: \", score.student"
   ]
  },
  {
   "cell_type": "code",
   "execution_count": 31,
   "metadata": {
    "collapsed": false,
    "slideshow": {
     "slide_type": "slide"
    }
   },
   "outputs": [
    {
     "name": "stdout",
     "output_type": "stream",
     "text": [
      "Macedo 0 has 30\n",
      "Macedo 1 has 13\n",
      "Macedo 2 has 55\n"
     ]
    }
   ],
   "source": [
    "# Suporta generators\n",
    "seq_name = mixer.sequence('Macedo {0}')\n",
    "seq_points = (p for p in [30, 13, 55])\n",
    "\n",
    "for counter in range(3):\n",
    "    print mixer.blend('courses.Score', points=seq_points, student__name=seq_name)"
   ]
  },
  {
   "cell_type": "code",
   "execution_count": 32,
   "metadata": {
    "collapsed": false,
    "slideshow": {
     "slide_type": "fragment"
    }
   },
   "outputs": [
    {
     "name": "stdout",
     "output_type": "stream",
     "text": [
      "[<Student: Mr. Dennie Reichel III>, <Student: Teagan Hartmann>, <Student: Janis Ondricka>, <Student: Myrtle Wolff>, <Student: Carmen O'Connell>]\n"
     ]
    }
   ],
   "source": [
    "# Ciclos para facilitar a geração de vários objetos\n",
    "students = mixer.cycle(5).blend('courses.Student')\n",
    "print students"
   ]
  },
  {
   "cell_type": "markdown",
   "metadata": {
    "slideshow": {
     "slide_type": "slide"
    }
   },
   "source": [
    "## É isso!\n",
    "\n",
    "- Fernando Macedo\n",
    "- fgmacedo@gmail.com\n",
    "- Trabalho na labCorp (estamos contratando!)\n",
    "- @fgmacedo\n",
    "- github.com/fgmacedo"
   ]
  }
 ],
 "metadata": {
  "celltoolbar": "Slideshow",
  "kernelspec": {
   "display_name": "Python 2",
   "language": "python",
   "name": "python2"
  },
  "language_info": {
   "codemirror_mode": {
    "name": "ipython",
    "version": 2
   },
   "file_extension": ".py",
   "mimetype": "text/x-python",
   "name": "python",
   "nbconvert_exporter": "python",
   "pygments_lexer": "ipython2",
   "version": "2.7.6"
  }
 },
 "nbformat": 4,
 "nbformat_minor": 0
}
