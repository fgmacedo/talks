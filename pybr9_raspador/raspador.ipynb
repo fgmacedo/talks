{
 "metadata": {
  "name": ""
 },
 "nbformat": 3,
 "nbformat_minor": 0,
 "worksheets": [
  {
   "cells": [
    {
     "cell_type": "markdown",
     "metadata": {
      "slideshow": {
       "slide_type": "slide"
      }
     },
     "source": [
      "# Raspador\n",
      "\n",
      "Mini-biblioteca para extra\u00e7\u00e3o de dados em documentos semi-estruturados"
     ]
    },
    {
     "cell_type": "markdown",
     "metadata": {
      "slideshow": {
       "slide_type": "slide"
      }
     },
     "source": [
      "## Sobre mim\n",
      "\n",
      "- Desenvolvedor desde 2003\n",
      "- Trabalho na NCR Corporation\n",
      "- Na NCR, Python n\u00e3o \u00e9 a linguagem prim\u00e1ria"
     ]
    },
    {
     "cell_type": "markdown",
     "metadata": {
      "slideshow": {
       "slide_type": "slide"
      }
     },
     "source": [
      "```\n",
      "from raspador import history\n",
      "```\n",
      "\n",
      "- Prova de conceito para extra\u00e7\u00e3o de dados de espelhos MFD\n",
      "- Virou c\u00f3digo de base do projeto"
     ]
    },
    {
     "cell_type": "markdown",
     "metadata": {
      "slideshow": {
       "slide_type": "slide"
      }
     },
     "source": [
      "## O que?\n",
      "\n",
      "- Extrair dados de arquivos texto que n\u00e3o foram projetados para isso."
     ]
    },
    {
     "cell_type": "raw",
     "metadata": {
      "slideshow": {
       "slide_type": "slide"
      }
     },
     "source": [
      "<h2>Dados do cupom</h2>\n",
      "\n",
      "<pre><code class=\"text\">\n",
      "       RAZ\u00c3O SOCIAL\n",
      "Meu Endere\u00e7o      Minha Cidade      Meu Telefone\n",
      "CNPJ: 40.100.280/0001-25       IE:   600020060001        \n",
      "IM:   36/3372             \n",
      "\u0016 18/01/2013 11:07:04        CCF:002902 COO:007490\n",
      "       CUPOM FISCAL      \n",
      "ITEM C\u00d3DIGO DESCRI\u00c7\u00c3O QTD.UN.VL UNIT R$ ST A/T VL ITEM R$\n",
      " 001 1 prd1 esys isento                       1UN I1 1,00\u20ac\n",
      " 002 2 prd2 esys Nincid                       1UN N1 2,00\u20ac\n",
      " 003 9999999999991 PIZZAS                    1UN I1 14,33\u20ac\n",
      "Subtotal  R$                              17,33\n",
      "ACR\u00c9SCIMO                                 +0,30\u20ac\n",
      "  TOTAL   R$        17,63\n",
      "Dinheiro                                  17,63\n",
      "------------------------------------------------\n",
      "MD5: A3BBE73BD09B18ECE607A50F92868A4E        \n",
      "Consumo da mesa 1 - SEM EMISSAO CONFERENCIA MESA\n",
      "\n",
      "mesa-Seq.: 1-2\n",
      "\n",
      "   Mensagem nao programada                   \n",
      "   Mensagem nao programada                   \n",
      "02B 131B4 35A4E F59000 B6 59504C 72A1E 0669F 027\n",
      "FABRICANTE     MODELO              \n",
      "ECF-IF    VERS\u00c3O:01.01.00     ECF:001    Lj:    \n",
      "BBBBBBBBBBAABFCDEI          \u0016 18/01/2013 11:07:06 \n",
      "FAB:XX000000000000207053                   BR\n",
      "</code></pre>"
     ]
    },
    {
     "cell_type": "raw",
     "metadata": {
      "slideshow": {
       "slide_type": "subslide"
      }
     },
     "source": [
      "<h2> Dados do cupom</h2>\n",
      "\n",
      "<pre><code class=\"python\">\n",
      "{\n",
      "    'COO': 7490,\n",
      "    'CCF': 2902,\n",
      "    'Total': 17.63,\n",
      "    'Acrescimo': 0.30,\n",
      "    'Cancelado': False,\n",
      "    'Cancelamento': False,\n",
      "    'DataDeEmissao': datetime(2013, 01, 18, 11, 7, 4),\n",
      "    'NumeroDeSerie': 'DR0510BR000000207153',\n",
      "    'NumeroDoEcf': 1,\n",
      "    'Itens': [\n",
      "        {\n",
      "            'Item': 1,\n",
      "            'Codigo': '1',\n",
      "            'Descricao': 'prd1 esys isento',\n",
      "            'Qtd': 1,\n",
      "            'Unidade': 'UN',\n",
      "            'Preco': 1,\n",
      "            'Total': 1,\n",
      "            'Cancelado': False,\n",
      "            'Aliquota': {\n",
      "                'Codigo': 'I1',\n",
      "                'Percentual': 0,\n",
      "            },\n",
      "        },\n",
      "        {\n",
      "            'Item': 2,\n",
      "            'Codigo': '2',\n",
      "            'Descricao': '2 prd2 esys Nincid',\n",
      "            'Qtd': 1,\n",
      "            'Unidade': 'UN',\n",
      "            'Preco': 2,\n",
      "            'Total': 2,\n",
      "            'Cancelado': False,\n",
      "            'Aliquota': {\n",
      "                'Codigo': 'N1',\n",
      "                'Percentual': 0,\n",
      "            },\n",
      "        },\n",
      "        {\n",
      "            'Item': 3,\n",
      "            'Codigo': '9999999999991',\n",
      "            'Descricao': 'PIZZAS',\n",
      "            'Qtd': 1,\n",
      "            'Unidade': 'UN',\n",
      "            'Preco': 14.33,\n",
      "            'Total': 14.33,\n",
      "            'Cancelado': False,\n",
      "            'Aliquota': {\n",
      "                'Codigo': 'I1',\n",
      "                'Percentual': 0,\n",
      "            },\n",
      "        },\n",
      "    ]\n",
      "}\n",
      "</code></pre>"
     ]
    },
    {
     "cell_type": "markdown",
     "metadata": {
      "slideshow": {
       "slide_type": "slide"
      }
     },
     "source": [
      "## Outro parser?\n",
      "\n",
      "- lxml (XPath, cssselectors)\n",
      "- html5lib (html parser)\n",
      "- BeautifulSoup (tree parser api)\n",
      "- PyQuery (cssselectors)\n",
      "- Scrapely (magia negra)\n",
      "- Scrapy (crawler: request, responsing)\n",
      "- pyparsing (grammar)\n",
      "- NLTK (grammar)\n",
      "- Plain Python + regex"
     ]
    },
    {
     "cell_type": "markdown",
     "metadata": {
      "slideshow": {
       "slide_type": "slide"
      }
     },
     "source": [
      "## Problema\n",
      "\n",
      "- Extrair dados em documentos de texto\n",
      "    + Texto sem marca\u00e7\u00e3o\n",
      "    + Arquivos grandes\n",
      "- Pequenas varia\u00e7\u00f5es entre arquivos\n",
      "- Precis\u00e3o na extra\u00e7\u00e3o dos dados"
     ]
    },
    {
     "cell_type": "markdown",
     "metadata": {
      "slideshow": {
       "slide_type": "slide"
      }
     },
     "source": [
      "## Op\u00e7\u00f5es?\n",
      "\n",
      "- <del>lxml</del> (XPath, cssselectors)\n",
      "- <del>html5lib</del> (html parser)\n",
      "- <del>BeautifulSoup</del> (tree parser api)\n",
      "- <del>PyQuery</del> (cssselectors)\n",
      "- <del>Scrapely</del> (magia negra)\n",
      "- <del>Scrapy</del> (crawler: request, responsing)\n",
      "- pyparsing (grammar)\n",
      "- NLTK (grammar)\n",
      "- **Plain Python + regex**"
     ]
    },
    {
     "cell_type": "markdown",
     "metadata": {
      "slideshow": {
       "slide_type": "slide"
      }
     },
     "source": [
      "## Objetivos\n",
      "\n",
      "- Reduzir complexidade\n",
      "    - Sem\u00e2ntica\n",
      "    - Composi\u00e7\u00e3o\n",
      "- C\u00f3digo test\u00e1vel"
     ]
    },
    {
     "cell_type": "code",
     "collapsed": false,
     "input": [
      "import raspador\n"
     ],
     "language": "python",
     "metadata": {
      "slideshow": {
       "slide_type": "slide"
      }
     },
     "outputs": []
    },
    {
     "cell_type": "markdown",
     "metadata": {
      "slideshow": {
       "slide_type": "slide"
      }
     },
     "source": [
      "## Exemplo\n",
      "\n",
      "- Converter PDF para texto (pdftotext: http://www.foolabs.com/xpdf/download.html)\n",
      "\n",
      "http://www.sptrans.com.br/indicadores/historico_fluxo-caixa.aspx"
     ]
    }
   ],
   "metadata": {}
  }
 ]
}