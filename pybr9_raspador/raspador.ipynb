{
 "metadata": {
  "name": ""
 },
 "nbformat": 3,
 "nbformat_minor": 0,
 "worksheets": [
  {
   "cells": [
    {
     "cell_type": "markdown",
     "metadata": {
      "slideshow": {
       "slide_type": "slide"
      }
     },
     "source": [
      "# Raspador\n",
      "\n",
      "Mini-biblioteca para extra\u00e7\u00e3o de dados em documentos semi-estruturados"
     ]
    },
    {
     "cell_type": "markdown",
     "metadata": {
      "slideshow": {
       "slide_type": "slide"
      }
     },
     "source": [
      "## Sobre mim\n",
      "\n",
      "- Desenvolvedor desde 2003\n",
      "- Conheci Python em 2009\n",
      "- Trabalho na NCR Corporation\n",
      "- Na NCR, Python n\u00e3o \u00e9 a linguagem prim\u00e1ria"
     ]
    },
    {
     "cell_type": "markdown",
     "metadata": {
      "slideshow": {
       "slide_type": "slide"
      }
     },
     "source": [
      "```\n",
      "from raspador import history\n",
      "```\n",
      "\n",
      "- Foi utilizado para extra\u00e7\u00e3o de dados de Espelhos MFD\n",
      "- Virou c\u00f3digo de base do projeto"
     ]
    },
    {
     "cell_type": "markdown",
     "metadata": {
      "slideshow": {
       "slide_type": "slide"
      }
     },
     "source": [
      "## Outro parser?\n",
      "\n",
      "- lxml (XPath, cssselectors)\n",
      "- html5lib (html parser)\n",
      "- BeautifulSoup (tree parser api)\n",
      "- PyQuery (cssselectors)\n",
      "- Scrapely (magia negra)\n",
      "- Scrapy (crawler: request, responsing)\n",
      "- pyparsing (grammar)\n",
      "- NLTK (grammar)\n",
      "- Plain Python + regex"
     ]
    },
    {
     "cell_type": "markdown",
     "metadata": {
      "slideshow": {
       "slide_type": "slide"
      }
     },
     "source": [
      "## O que?\n",
      "\n",
      "- Extrair dados de arquivos texto que n\u00e3o foram projetados para isso."
     ]
    },
    {
     "cell_type": "raw",
     "metadata": {
      "slideshow": {
       "slide_type": "subslide"
      }
     },
     "source": [
      "<pre>\n",
      "CNPJ: 40.100.280/0001-25       IE:   600020060001        \n",
      "IM:   36/3372             \n",
      " 18/01/2013 11:07:04        CCF:002902 COO:007490\n",
      "       CUPOM FISCAL      \n",
      "ITEM C\u00d3DIGO DESCRI\u00c7\u00c3O QTD.UN.VL UNIT R$ ST VL ITEM R$\n",
      " 001 1 prd1                             1UN I1 1,00\u20ac\n",
      " 002 2 prd2      Nincid                 1UN N1 2,00\u20ac\n",
      " 003 9999999999991 PIZZAS               1UN I1 14,33\u20ac\n",
      "Subtotal  R$                              17,33\n",
      "ACR\u00c9SCIMO                                 +0,30\u20ac\n",
      "  TOTAL   R$        17,63\n",
      "Dinheiro                                  17,63\n",
      "------------------------------------------------\n",
      "MD5: A3BBE73BD09B18ECE607A50F92868A4E        \n",
      "02B 131B4 35A4E F59000 B6 59504C 72A1E 0669F 027\n",
      "ECF-IF    VERS\u00c3O:01.01.00     ECF:001    Lj:    \n",
      "BBBBBBBBBBAABFCDEI           18/01/2013 11:07:06 \n",
      "FAB:XX000000000000207053                   BR\n",
      "</pre>"
     ]
    },
    {
     "cell_type": "raw",
     "metadata": {
      "slideshow": {
       "slide_type": "subslide"
      }
     },
     "source": [
      "<pre><code class=\"python\">{\n",
      "  'COO': 7490,\n",
      "  'CCF': 2902,\n",
      "  'Total': 17.63,\n",
      "  'Acrescimo': 0.30,\n",
      "  'Cancelado': False,\n",
      "  'Cancelamento': False,\n",
      "  'DataDeEmissao': datetime(2013, 01, 18, 11, 7, 4),\n",
      "  'NumeroDeSerie': 'DR0510BR000000207153',\n",
      "  'NumeroDoEcf': 1,\n",
      "  'Itens': [\n",
      "    {\n",
      "      'Item': 1,\n",
      "      'Codigo': '1',\n",
      "      'Descricao': 'prd1',\n",
      "      'Qtd': 1,\n",
      "      'Unidade': 'UN',\n",
      "      'Preco': 1,\n",
      "      'Total': 1,\n",
      "      'Cancelado': False,\n",
      "      'Aliquota': {\n",
      "        'Codigo': 'I1',\n",
      "        'Percentual': 0,\n",
      "      },\n",
      "    },\n",
      "    {\n",
      "      'Item': 2,\n",
      "      'Codigo': '2',\n",
      "      'Descricao': 'prd2 Nincid',\n",
      "      'Qtd': 1,\n",
      "      'Unidade': 'UN',\n",
      "      'Preco': 2,\n",
      "      'Total': 2,\n",
      "      'Cancelado': False,\n",
      "      'Aliquota': {\n",
      "        'Codigo': 'N1',\n",
      "        'Percentual': 0,\n",
      "      },\n",
      "    },\n",
      "    {\n",
      "      'Item': 3,\n",
      "      'Codigo': '9999999999991',\n",
      "      'Descricao': 'PIZZAS',\n",
      "      'Qtd': 1,\n",
      "      'Unidade': 'UN',\n",
      "      'Preco': 14.33,\n",
      "      'Total': 14.33,\n",
      "      'Cancelado': False,\n",
      "      'Aliquota': {\n",
      "        'Codigo': 'I1',\n",
      "        'Percentual': 0,\n",
      "      },\n",
      "    },\n",
      "  ]\n",
      "}</code></pre>"
     ]
    },
    {
     "cell_type": "markdown",
     "metadata": {
      "slideshow": {
       "slide_type": "slide"
      }
     },
     "source": [
      "## Problema\n",
      "\n",
      "- Extrair dados em documentos de texto\n",
      "    + Texto sem marca\u00e7\u00e3o\n",
      "    + Arquivos grandes\n",
      "- Pequenas varia\u00e7\u00f5es entre arquivos\n",
      "- Precis\u00e3o na extra\u00e7\u00e3o dos dados"
     ]
    },
    {
     "cell_type": "markdown",
     "metadata": {
      "slideshow": {
       "slide_type": "slide"
      }
     },
     "source": [
      "## Op\u00e7\u00f5es?\n",
      "\n",
      "- <del>lxml</del> (XPath, cssselectors)\n",
      "- <del>html5lib</del> (html parser)\n",
      "- <del>BeautifulSoup</del> (tree parser api)\n",
      "- <del>PyQuery</del> (cssselectors)\n",
      "- <del>Scrapely</del> (magia negra)\n",
      "- <del>Scrapy</del> (crawler: request, responsing)\n",
      "- pyparsing (grammar)\n",
      "- NLTK (grammar)\n",
      "- **Plain Python + regex**"
     ]
    },
    {
     "cell_type": "markdown",
     "metadata": {
      "slideshow": {
       "slide_type": "slide"
      }
     },
     "source": [
      "## Plain Python + regex\n",
      "\n",
      "- F\u00e1cil de escrever\n",
      "- Dif\u00edcil de manter"
     ]
    },
    {
     "cell_type": "markdown",
     "metadata": {
      "slideshow": {
       "slide_type": "fragment"
      }
     },
     "source": [
      "> Write only code"
     ]
    },
    {
     "cell_type": "markdown",
     "metadata": {
      "slideshow": {
       "slide_type": "subslide"
      }
     },
     "source": [
      "O que faz?\n",
      "\n",
      "```\n",
      "res = []\n",
      "for linha in entrada.splitlines():\n",
      "    if not linha:\n",
      "        continue\n",
      "    item = {}\n",
      "    for parte in linha.split():\n",
      "        k, v = parte.split(':')\n",
      "        item[k] = v\n",
      "    res.append(item)\n",
      "```"
     ]
    },
    {
     "cell_type": "markdown",
     "metadata": {
      "slideshow": {
       "slide_type": "fragment"
      }
     },
     "source": [
      "Voc\u00ea entende o c\u00f3digo, mas n\u00e3o tem significado."
     ]
    },
    {
     "cell_type": "markdown",
     "metadata": {
      "slideshow": {
       "slide_type": "slide"
      }
     },
     "source": [
      "## Regular expressions\n",
      "\n",
      "> Some people, when confronted with a problem, think \"I know, I'll use regular expressions.\" Now they have two problems.\n",
      "> (Jamie Zawinski, 1997)"
     ]
    },
    {
     "cell_type": "code",
     "collapsed": false,
     "input": [
      "# O que isso faz?\n",
      "regex = \"^((([!#$%&'*+\\-/=?^_`{|}~\\w])|([!#$%&'*+\\-/=?^_`{|}~\\w][!#$%&'*+\\-/=?^_`{|}~\\.\\w]{0,}[!#$%&'*+\\-/=?^_`{|}~\\w]))[@]\\w+([-.]\\w+)*\\.\\w+([-.]\\w+)*)$\""
     ],
     "language": "python",
     "metadata": {
      "slideshow": {
       "slide_type": "subslide"
      }
     },
     "outputs": []
    },
    {
     "cell_type": "markdown",
     "metadata": {
      "slideshow": {
       "slide_type": "fragment"
      }
     },
     "source": [
      "> Email validation - RFC 2821, 2822 compliant"
     ]
    },
    {
     "cell_type": "markdown",
     "metadata": {
      "slideshow": {
       "slide_type": "subslide"
      }
     },
     "source": [
      "![N\u00e3o exagere](static/pimentas.jpg)\n",
      "\n",
      "> [I love regular expressions](http://www.codinghorror.com/blog/2008/06/regular-expressions-now-you-have-two-problems.html) (Jeff Atwood)"
     ]
    },
    {
     "cell_type": "markdown",
     "metadata": {
      "slideshow": {
       "slide_type": "slide"
      }
     },
     "source": [
      "## Objetivos\n",
      "\n",
      "- Reduzir complexidade\n",
      "    - Incluir sem\u00e2ntica\n",
      "    - Favorecer composi\u00e7\u00e3o\n",
      "- C\u00f3digo test\u00e1vel"
     ]
    },
    {
     "cell_type": "markdown",
     "metadata": {
      "slideshow": {
       "slide_type": "slide"
      }
     },
     "source": [
      "pessoa_parser.py\n",
      "\n",
      "```\n",
      "from raspador import Parser\n",
      "from raspador import StringField, IntegerField\n",
      "\n",
      "class ParserDeInformacoesPessoais(Parser):\n",
      "    Nome = StringField(r'Nome: (.*)')\n",
      "    Idade = IntegerField(r'(\\d+) anos')\n",
      "```"
     ]
    },
    {
     "cell_type": "markdown",
     "metadata": {
      "slideshow": {
       "slide_type": "fragment"
      }
     },
     "source": [
      "A defini\u00e7\u00e3o de um atributo e o tipo de dado agregam sem\u00e2ntica"
     ]
    },
    {
     "cell_type": "markdown",
     "metadata": {
      "slideshow": {
       "slide_type": "subslide"
      }
     },
     "source": [
      "pessoa.txt\n",
      "\n",
      "> Nome: Guido van Rossum\n",
      ">\n",
      "> Guido van Rossum \u00e9 um programador de computadores dos Pa\u00edses Baixos que \u00e9 mais\n",
      "> conhecido por ser o autor da linguagem de programa\u00e7\u00e3o Python. Wikip\u00e9dia\n",
      "> \n",
      "> Nascimento: 31 de janeiro de 1956 (57 anos), Pa\u00edses Baixos\n",
      ">\n",
      "> C\u00f4njuge: Kim Knapp (desde 2000)\n",
      ">\n",
      "> Educa\u00e7\u00e3o: Universidade de Amsterd\u00e3 (1982)\n",
      ">\n",
      "> Filho: Orlijn Michiel Knapp-van Rossum\n",
      ">\n",
      "> Irm\u00e3o: Just van Rossum"
     ]
    },
    {
     "cell_type": "markdown",
     "metadata": {
      "slideshow": {
       "slide_type": "subslide"
      }
     },
     "source": [
      "pessoa_utilizacao.py\n",
      "\n",
      "```\n",
      "from pessoa_parser import ParserDeInformacoesPessoais\n",
      "\n",
      "parser = ParserDeInformacoesPessoais()\n",
      "\n",
      "with open('pessoa.txt') as f:\n",
      "    for pessoa in parser.parse(f):\n",
      "        print(pessoa.Nome)\n",
      "        print(pessoa.Idade)\n",
      "```"
     ]
    },
    {
     "cell_type": "markdown",
     "metadata": {
      "slideshow": {
       "slide_type": "fragment"
      }
     },
     "source": [
      "> Guido van Rossum\n",
      "\n",
      "> 57"
     ]
    },
    {
     "cell_type": "markdown",
     "metadata": {
      "slideshow": {
       "slide_type": "subslide"
      }
     },
     "source": [
      "```\n",
      "# parser.parse retorna um generator\n",
      "with open('pessoa.txt') as f:\n",
      "    g = parser.parse(f)\n",
      "    print(type(g))\n",
      "    print(next(g))\n",
      "```"
     ]
    },
    {
     "cell_type": "markdown",
     "metadata": {
      "slideshow": {
       "slide_type": "fragment"
      }
     },
     "source": [
      "> `<type 'generator'>`\n",
      "\n",
      "> `Dictionary([('Nome', 'Guido van Rossum'), ('Idade', 57)])`"
     ]
    },
    {
     "cell_type": "markdown",
     "metadata": {
      "slideshow": {
       "slide_type": "slide"
      }
     },
     "source": [
      "## raspador.item\n",
      "\n",
      "```\n",
      "class Dictionary(OrderedDict):\n",
      "    \"\"\"\n",
      "    Dictionary that exposes keys as properties for \n",
      "    easy read access.\n",
      "    \"\"\"\n",
      "    def __getattr__(self, name):\n",
      "        if name in self:\n",
      "            return self[name]\n",
      "        raise AttributeError(\n",
      "            \"%s without attr '%s'\" %\n",
      "                (type(self).__name__, name))\n",
      "```"
     ]
    },
    {
     "cell_type": "markdown",
     "metadata": {
      "slideshow": {
       "slide_type": "slide"
      }
     },
     "source": [
      "## Campos built-in\n",
      "\n",
      "```\n",
      "from raspador import (\n",
      "    BaseField, IntegerField,\n",
      "    StringField, BooleanField,\n",
      "    FloatField, BRFloatField,\n",
      "    DateField, DateTimeField)\n",
      "```"
     ]
    },
    {
     "cell_type": "markdown",
     "metadata": {
      "slideshow": {
       "slide_type": "fragment"
      }
     },
     "source": [
      "TODO: `BRFloatField`, definir sistema de localiza\u00e7\u00e3o."
     ]
    },
    {
     "cell_type": "markdown",
     "metadata": {
      "slideshow": {
       "slide_type": "slide"
      }
     },
     "source": [
      "## BaseField\n",
      "\n",
      "search\n",
      "\n",
      "```\n",
      ">>> s = \"02/01/2013 10:21:51           COO:022734\"\n",
      ">>> field = BaseField(search=r'COO:(\\d+)')\n",
      ">>> field.parse_block(s)\n",
      "'022734'\n",
      "```"
     ]
    },
    {
     "cell_type": "markdown",
     "metadata": {
      "slideshow": {
       "slide_type": "subslide"
      }
     },
     "source": [
      "## BaseField\n",
      "\n",
      "input_processor\n",
      "\n",
      "```\n",
      ">>> s = \"02/01/2013 10:21:51           COO:022734\"\n",
      ">>> def double(value):\n",
      "...     return int(value) * 2\n",
      "...\n",
      ">>> field = BaseField(r'COO:(\\d+)', \n",
      "...                   input_processor=double)\n",
      ">>> field.parse_block(s)  # 45468 = 2 x 22734\n",
      "45468\n",
      "```"
     ]
    },
    {
     "cell_type": "markdown",
     "metadata": {
      "slideshow": {
       "slide_type": "subslide"
      }
     },
     "source": [
      "## BaseField\n",
      "\n",
      "is_list\n",
      "\n",
      "```\n",
      ">>> s = \"02/01/2013 10:21:51           COO:022734\"\n",
      ">>> field = BaseField(r'COO:(\\d+)', is_list=True)\n",
      ">>> field.parse_block(s)\n",
      "['022734']\n",
      "```"
     ]
    },
    {
     "cell_type": "markdown",
     "metadata": {
      "slideshow": {
       "slide_type": "fragment"
      }
     },
     "source": [
      "Por conven\u00e7\u00e3o, quando o campo retorna uma lista, os valores ser\u00e3o acumulados."
     ]
    },
    {
     "cell_type": "markdown",
     "metadata": {
      "slideshow": {
       "slide_type": "slide"
      }
     },
     "source": [
      "## DateField\n",
      "\n",
      "format_string\n",
      "\n",
      "```\n",
      ">>> s = \"2013-01-02T10:21:51           COO:022734\"\n",
      ">>> field = DateField(r'^(\\d+-\\d+-\\d+)', \n",
      "...                   format_string='%Y-%m-%d')\n",
      ">>> field.parse_block(s)\n",
      "datetime.date(2013, 1, 2)\n",
      "```"
     ]
    },
    {
     "cell_type": "markdown",
     "metadata": {
      "slideshow": {
       "slide_type": "slide"
      }
     },
     "source": [
      "## Parser\n",
      "\n",
      "- Respons\u00e1vel por conduzir a itera\u00e7\u00e3o\n",
      "- Podem ser alinhados"
     ]
    },
    {
     "cell_type": "markdown",
     "metadata": {
      "slideshow": {
       "slide_type": "slide"
      }
     },
     "source": [
      "## Nem tudo que \u00e9 texto\n",
      "\n",
      "... est\u00e1 em texto\n",
      "\n",
      "[pdftotext](http://www.foolabs.com/xpdf/download.html)\n",
      "\n",
      "Dica:\n",
      "\n",
      "```\n",
      "pdftotext -layout <arquivo.pdf>\n",
      "```\n",
      "\n",
      "Mant\u00e9m a estrutura do arquivo gerado pr\u00f3xima com o original."
     ]
    },
    {
     "cell_type": "markdown",
     "metadata": {
      "slideshow": {
       "slide_type": "slide"
      }
     },
     "source": [
      "## Regular expressions\n",
      "\n",
      "- Debuggex: visualize suas REs\n",
      "\n",
      "    [https://www.debuggex.com/](https://www.debuggex.com/)\n",
      "    \n",
      "- Aur\u00e9lio\n",
      "\n",
      "    [Express\u00f5es regulares, uma abordagem divertida](http://aurelio.net/regex/)"
     ]
    },
    {
     "cell_type": "markdown",
     "metadata": {
      "slideshow": {
       "slide_type": "slide"
      }
     },
     "source": [
      "## Compatibilidade\n",
      "\n",
      "- CPython 2.6+\n",
      "    - 2.6: pip install ordereddict\n",
      "- CPython 3.2+\n",
      "- PyPy"
     ]
    },
    {
     "cell_type": "markdown",
     "metadata": {
      "slideshow": {
       "slide_type": "slide"
      }
     },
     "source": [
      "## Testes\n",
      "\n",
      "Testes automatizados com [tox](http://tox.readthedocs.org/en/latest/).\n",
      "\n",
      "```\n",
      "    $ tox\n",
      "```\n",
      "\n",
      "Bibliotecas de terceiros para os testes s\u00e3o instaladas automaticamente no ambiente virtual da vers\u00e3o do Python:\n",
      "\n",
      "```\n",
      "    nose==1.3.0\n",
      "    coverage==3.6\n",
      "    flake8==2.0\n",
      "```"
     ]
    },
    {
     "cell_type": "markdown",
     "metadata": {
      "slideshow": {
       "slide_type": "slide"
      }
     },
     "source": [
      "## \u00c9 nosso\n",
      "\n",
      "[![BuildStatus](https://travis-ci.org/fgmacedo/raspador.png)](https://travis-ci.org/fgmacedo/raspador)\n",
      "[![Cobertura](https://coveralls.io/repos/fgmacedo/raspador/badge.png)](https://coveralls.io/r/fgmacedo/raspador)\n",
      "[![Vers\u00e3o](https://pypip.in/v/raspador/badge.png)](https://pypi.python.org/pypi/raspador)\n",
      "[![Downloads](https://pypip.in/d/raspador/badge.png)](https://crate.io/packages/raspador/)\n",
      "\n",
      "[https://github.com/fgmacedo/raspador](https://github.com/fgmacedo/raspador)\n",
      "\n",
      "[https://pypi.python.org/pypi/raspador](https://pypi.python.org/pypi/raspador)\n",
      "\n",
      "[https://raspador.readthedocs.org/](https://raspador.readthedocs.org)"
     ]
    },
    {
     "cell_type": "markdown",
     "metadata": {
      "slideshow": {
       "slide_type": "slide"
      }
     },
     "source": [
      "## Obrigado!\n",
      "\n",
      "Fernando Macedo\n",
      "\n",
      "[&#64;fgmacedo](http://twitter.com/fgmacedo/)\n",
      "\n",
      "[fgmacedo.com](http://fgmacedo.com/)\n",
      "\n",
      "[fgmacedo@gmail.com](fgmacedo@gmail.com)\n",
      "\n",
      "[fgmacedo.github.io/talks/pybr9_raspador/](http://fgmacedo.github.io/talks/pybr9_raspador/) (Slides)"
     ]
    }
   ],
   "metadata": {}
  }
 ]
}