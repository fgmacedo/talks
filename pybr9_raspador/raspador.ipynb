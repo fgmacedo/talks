{
 "metadata": {
  "name": ""
 },
 "nbformat": 3,
 "nbformat_minor": 0,
 "worksheets": [
  {
   "cells": [
    {
     "cell_type": "markdown",
     "metadata": {
      "slideshow": {
       "slide_type": "slide"
      }
     },
     "source": [
      "# Raspador\n",
      "\n",
      "Mini-biblioteca para extra\u00e7\u00e3o de dados em documentos semi-estruturados"
     ]
    },
    {
     "cell_type": "markdown",
     "metadata": {
      "slideshow": {
       "slide_type": "slide"
      }
     },
     "source": [
      "## Sobre mim\n",
      "\n",
      "- Desenvolvedor desde 2003\n",
      "- Trabalho na NCR Corporation\n",
      "- Python n\u00e3o \u00e9 minha linguagem prim\u00e1ria (ainda!)"
     ]
    },
    {
     "cell_type": "markdown",
     "metadata": {
      "slideshow": {
       "slide_type": "slide"
      }
     },
     "source": [
      "## Ser\u00e1 que funciona? \n",
      "\n",
      "```\n",
      "from raspador import history\n",
      "```\n",
      "\n",
      "- Prova de conceito para extra\u00e7\u00e3o de dados de espelhos MFD\n",
      "- Virou c\u00f3digo de base do projeto"
     ]
    },
    {
     "cell_type": "markdown",
     "metadata": {
      "slideshow": {
       "slide_type": "slide"
      }
     },
     "source": [
      "## Ferramentas\n",
      "\n",
      "- lxml\n",
      "- regex\n",
      "- Scrapy\n",
      "- PyQuery\n",
      "- Scrapely (magia negra)\n",
      "- NLTK"
     ]
    },
    {
     "cell_type": "markdown",
     "metadata": {
      "slideshow": {
       "slide_type": "slide"
      }
     },
     "source": [
      "## Exemplo\n",
      "http://www.sptrans.com.br/indicadores/historico_fluxo-caixa.aspx"
     ]
    }
   ],
   "metadata": {}
  }
 ]
}