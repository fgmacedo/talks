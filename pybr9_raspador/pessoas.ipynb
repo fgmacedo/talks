{
 "metadata": {
  "name": ""
 },
 "nbformat": 3,
 "nbformat_minor": 0,
 "worksheets": [
  {
   "cells": [
    {
     "cell_type": "markdown",
     "metadata": {},
     "source": [
      "pessoa.txt"
     ]
    },
    {
     "cell_type": "code",
     "collapsed": false,
     "input": [
      "from StringIO import StringIO\n",
      "\n",
      "f = StringIO(\"\"\"\n",
      "Nome: Guido van Rossum\n",
      "Guido van Rossum \u00e9 um programador de computadores dos Pa\u00edses Baixos que \u00e9 mais\n",
      "conhecido por ser o autor da linguagem de programa\u00e7\u00e3o Python. Wikip\u00e9dia\n",
      "\n",
      "Nascimento: 31 de janeiro de 1956 (57 anos), Pa\u00edses Baixos\n",
      "C\u00f4njuge: Kim Knapp (desde 2000)\n",
      "Educa\u00e7\u00e3o: Universidade de Amsterd\u00e3 (1982)\n",
      "Filho: Orlijn Michiel Knapp-van Rossum\n",
      "Irm\u00e3o: Just van Rossum\n",
      "\"\"\")"
     ],
     "language": "python",
     "metadata": {},
     "outputs": [],
     "prompt_number": 9
    },
    {
     "cell_type": "markdown",
     "metadata": {},
     "source": [
      "parser_informacoes.py"
     ]
    },
    {
     "cell_type": "code",
     "collapsed": false,
     "input": [
      "from raspador import Parser\n",
      "from raspador import StringField, IntegerField\n",
      "\n",
      "class ParserDeInformacoesPessoais(Parser):\n",
      "    Nome = StringField(r'Nome: (.*)')\n",
      "    Idade = IntegerField(r'(\\d+) anos')"
     ],
     "language": "python",
     "metadata": {},
     "outputs": [],
     "prompt_number": 2
    },
    {
     "cell_type": "markdown",
     "metadata": {},
     "source": [
      "Utiliza\u00e7\u00e3o:"
     ]
    },
    {
     "cell_type": "code",
     "collapsed": false,
     "input": [
      "parser = ParserDeInformacoesPessoais()\n",
      "\n",
      "for pessoa in parser.parse(f):\n",
      "    print(pessoa.Nome)\n",
      "    print(pessoa.Idade)\n",
      "    print('{Nome} \u00e9 o BDFL do Python. Tem {Idade} anos.'.format(**pessoa))\n"
     ],
     "language": "python",
     "metadata": {},
     "outputs": [
      {
       "output_type": "stream",
       "stream": "stdout",
       "text": [
        "Guido van Rossum\n",
        "57\n",
        "Guido van Rossum \u00e9 o BDFL do Python. Tem 57 anos.\n"
       ]
      }
     ],
     "prompt_number": 10
    }
   ],
   "metadata": {}
  }
 ]
}