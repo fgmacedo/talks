{
 "cells": [
  {
   "cell_type": "markdown",
   "metadata": {
    "slideshow": {
     "slide_type": "slide"
    }
   },
   "source": [
    "# Máquinas de estado em Python\n",
    "\n",
    "## Fernando Macedo\n",
    "@fgmacedo | fgmacedo@gmail.com"
   ]
  },
  {
   "cell_type": "markdown",
   "metadata": {
    "slideshow": {
     "slide_type": "slide"
    }
   },
   "source": [
    "## Agenda \n",
    "\n",
    "- Case de máquina de estados real.\n",
    "- Definições sobre máquina de estados.\n",
    "- Sinais de que você precisa de uma.\n",
    "- Exemplos."
   ]
  },
  {
   "cell_type": "markdown",
   "metadata": {
    "slideshow": {
     "slide_type": "slide"
    }
   },
   "source": [
    "## Case: Integração com o novo sorter"
   ]
  },
  {
   "cell_type": "markdown",
   "metadata": {
    "slideshow": {
     "slide_type": "fragment"
    }
   },
   "source": [
    "<img style=\"float: right;\" src=\"loggi.png\" width=\"200px\">\n",
    "\n",
    "Cenário:\n",
    "\n",
    "- Alta disponibilidade.\n",
    "- Baixa latência.\n"
   ]
  },
  {
   "cell_type": "markdown",
   "metadata": {
    "slideshow": {
     "slide_type": "slide"
    }
   },
   "source": [
    "## Case: Integração com o novo sorter\n",
    "\n",
    "![arquitetura-wop](wop_events.svg)"
   ]
  },
  {
   "cell_type": "markdown",
   "metadata": {
    "slideshow": {
     "slide_type": "slide"
    }
   },
   "source": [
    "## Máquinas de estados\n",
    "\n",
    "Não é sobre: DFA, NFA, GNFA, Moore, Mealy, classificações..."
   ]
  },
  {
   "cell_type": "markdown",
   "metadata": {
    "slideshow": {
     "slide_type": "subslide"
    }
   },
   "source": [
    "## Máquinas de estados\n",
    "\n",
    "- Um objeto sempre está em apenas um dos possíveis estados, e existem transições mapeadas entre estes estados."
   ]
  },
  {
   "cell_type": "markdown",
   "metadata": {
    "slideshow": {
     "slide_type": "fragment"
    }
   },
   "source": [
    "- A alteração de estado se dá em resposta a eventos externos."
   ]
  },
  {
   "cell_type": "markdown",
   "metadata": {
    "slideshow": {
     "slide_type": "fragment"
    }
   },
   "source": [
    "- A resposta para um evento geralmente depende do tipo de evento e do estado interno do sistema, e pode implicar numa transição de estado."
   ]
  },
  {
   "cell_type": "markdown",
   "metadata": {
    "slideshow": {
     "slide_type": "slide"
    }
   },
   "source": [
    "Considere um semáforo:\n",
    "\n",
    "![semaphore](diags/semaphore.svg)"
   ]
  },
  {
   "cell_type": "markdown",
   "metadata": {
    "slideshow": {
     "slide_type": "fragment"
    }
   },
   "source": [
    "- Cada um dos círculos é um estado;\n",
    "- Cada seta é uma transição de estado possível;\n",
    "- O nome associado com a seta representa um evento."
   ]
  },
  {
   "cell_type": "markdown",
   "metadata": {
    "slideshow": {
     "slide_type": "slide"
    }
   },
   "source": [
    "## Eventos\n",
    "\n",
    "- Ações que afetam o sistema, os gatilhos ou `triggers`.\n",
    "- Podem conter parâmetros.\n",
    "\n",
    "![semaphore](diags/semaphore_events.svg)"
   ]
  },
  {
   "cell_type": "markdown",
   "metadata": {
    "slideshow": {
     "slide_type": "notes"
    }
   },
   "source": [
    "Um evento é algo que acontece que afeta o sistema. Pode conter parâmetros que qualificam o evento, como por exemplo um evento de \"tecla pressionada\", deve conter a informação da tecla associada."
   ]
  },
  {
   "cell_type": "markdown",
   "metadata": {
    "slideshow": {
     "slide_type": "slide"
    }
   },
   "source": [
    "## Estados\n",
    "\n",
    "- Representam um comportamento do sistema;\n",
    "- Uma condição de execução, que simplifica a verificação das ações possíveis para uma única variável.\n",
    "\n",
    "![semaphore](diags/semaphore_states.svg)"
   ]
  },
  {
   "cell_type": "markdown",
   "metadata": {
    "slideshow": {
     "slide_type": "notes"
    }
   },
   "source": [
    "Um estado representa um comportamento do sistema, uma condição de execução que reduz o problema de identificar o contexto de execução do sistema para apenas uma única variável, a do próprio estado, ao invés de muitas variáveis, eliminando lógicas condicionais.\n",
    "\n",
    "Para o domínio da sua aplicação, deve existir um conjunto finito de estados possíveis, daí o nome FSM (Finite State Machines).\n",
    "\n",
    "\n",
    "### Estados extendidos\n",
    "\n",
    "Existe uma interpretação em que cada estado representa um conjunto distinto de valores válidos para todas as variáveis. A quantidade de estados seria como uma permutação de todos os valores possíveis para todas as variáveis. Esta interpretação é impraticável em um sistema pois gera uma infinidade de estados. Variáveis são normalmente desassociadas dos estados.\n",
    "\n",
    "O estado representa um comportamento, e uma mudança numa variável nem sempre implica em mudança de comportamento."
   ]
  },
  {
   "cell_type": "markdown",
   "metadata": {
    "slideshow": {
     "slide_type": "slide"
    }
   },
   "source": [
    "## Vencendo a barreira\n",
    "\n",
    "\n",
    "- Por que são tão pouco utilizadas?\n",
    "- Quantas vezes você já implementou uma solução baseada em máquina de estados?"
   ]
  },
  {
   "cell_type": "markdown",
   "metadata": {
    "slideshow": {
     "slide_type": "slide"
    }
   },
   "source": [
    "### Justificativas\n",
    "\n",
    "- Não identificar o padrão."
   ]
  },
  {
   "cell_type": "markdown",
   "metadata": {
    "slideshow": {
     "slide_type": "fragment"
    }
   },
   "source": [
    "- Objetos que evoluem ao longo do tempo."
   ]
  },
  {
   "cell_type": "markdown",
   "metadata": {
    "slideshow": {
     "slide_type": "fragment"
    }
   },
   "source": [
    "- Existe o campo de estado, mas o controle é feito manualmente."
   ]
  },
  {
   "cell_type": "markdown",
   "metadata": {
    "slideshow": {
     "slide_type": "fragment"
    }
   },
   "source": [
    "- A complexidade atual é suficiente para cobrir o esforço de portar?"
   ]
  },
  {
   "cell_type": "markdown",
   "metadata": {
    "slideshow": {
     "slide_type": "fragment"
    }
   },
   "source": [
    "- Curva de aprendizado para incorporar uma nova ferramenta."
   ]
  },
  {
   "cell_type": "markdown",
   "metadata": {
    "slideshow": {
     "slide_type": "slide"
    }
   },
   "source": [
    "## Aplicações\n",
    "\n",
    "- Sempre que existe mudança de comportamento quando um estado interno muda;\n",
    "- É especialmente útil em sistemas orientados a eventos;\n",
    "- Auxilia a descobrir casos de uso e comportamentos não previstos."
   ]
  },
  {
   "cell_type": "markdown",
   "metadata": {
    "slideshow": {
     "slide_type": "slide"
    }
   },
   "source": [
    "## Identificando o padrão\n",
    "\n",
    "Sintomas de que você pode precisar de uma máquina de estados:"
   ]
  },
  {
   "cell_type": "markdown",
   "metadata": {
    "slideshow": {
     "slide_type": "fragment"
    }
   },
   "source": [
    "- Ter um campo `state` ou status no seu modelo."
   ]
  },
  {
   "cell_type": "markdown",
   "metadata": {
    "slideshow": {
     "slide_type": "fragment"
    }
   },
   "source": [
    "- Campos booleanos, como `published`, `paid`, `started`, `finished`."
   ]
  },
  {
   "cell_type": "markdown",
   "metadata": {
    "slideshow": {
     "slide_type": "fragment"
    }
   },
   "source": [
    "- Campos de timestamp que permitem nulos, como `published_at`, `paid_at`."
   ]
  },
  {
   "cell_type": "markdown",
   "metadata": {
    "slideshow": {
     "slide_type": "fragment"
    }
   },
   "source": [
    "- Quando existem muitas operações com verificações condicionais “protegendo” sua execução."
   ]
  },
  {
   "cell_type": "markdown",
   "metadata": {
    "slideshow": {
     "slide_type": "slide"
    }
   },
   "source": [
    "## Implementações\n",
    "\n",
    "### hand made\n",
    "\n",
    "- Padrão `State`  (Gang of Four)\n",
    "- Dicionário com o mapa das transições."
   ]
  },
  {
   "cell_type": "markdown",
   "metadata": {
    "slideshow": {
     "slide_type": "subslide"
    }
   },
   "source": [
    "## Implementações\n",
    "\n",
    "### transitions\n",
    "\n",
    "- https://github.com/pytransitions/transitions\n",
    "- Python 2.7+, 3.3+.\n",
    "- Full featured with some extra bonus."
   ]
  },
  {
   "cell_type": "markdown",
   "metadata": {
    "slideshow": {
     "slide_type": "subslide"
    }
   },
   "source": [
    "## Implementações\n",
    "\n",
    "### automaton\n",
    "\n",
    "- https://github.com/nazavode/automaton\n",
    "- Python 3.4+.\n",
    "- Minimalist."
   ]
  },
  {
   "cell_type": "markdown",
   "metadata": {
    "slideshow": {
     "slide_type": "subslide"
    }
   },
   "source": [
    "## Implementações\n",
    "### python-statemachine\n",
    "\n",
    "- https://github.com/fgmacedo/python-statemachine\n",
    "- Python 2.7+, 3.4+.\n",
    "- Full featured.\n",
    "- Disclaimer: Eu sou o autor."
   ]
  },
  {
   "cell_type": "markdown",
   "metadata": {
    "slideshow": {
     "slide_type": "slide"
    }
   },
   "source": [
    "![semaphore](diags/semaphore.svg)"
   ]
  },
  {
   "cell_type": "code",
   "execution_count": 1,
   "metadata": {
    "slideshow": {
     "slide_type": "subslide"
    }
   },
   "outputs": [],
   "source": [
    "from statemachine import StateMachine, State\n",
    "\n",
    "class TrafficLightMachine(StateMachine):\n",
    "    \"A traffic light machine\"\n",
    "    green = State('Green', initial=True)\n",
    "    yellow = State('Yellow')\n",
    "    red = State('Red')\n",
    "\n",
    "    slowdown = green.to(yellow)\n",
    "    stop = yellow.to(red)\n",
    "    go = red.to(green)\n",
    "\n",
    "    def on_slowdown(self):\n",
    "        print('Calma, lá!')\n",
    "\n",
    "    def on_stop(self):\n",
    "        print('Parou.')\n",
    "\n",
    "    def on_go(self):\n",
    "        print('Valendo!')"
   ]
  },
  {
   "cell_type": "code",
   "execution_count": 2,
   "metadata": {
    "slideshow": {
     "slide_type": "subslide"
    }
   },
   "outputs": [
    {
     "name": "stdout",
     "output_type": "stream",
     "text": [
      "Calma, lá!\n",
      "Parou.\n",
      "Valendo!\n"
     ]
    }
   ],
   "source": [
    "stm = TrafficLightMachine()\n",
    "\n",
    "stm.slowdown()\n",
    "stm.stop()\n",
    "stm.go()"
   ]
  },
  {
   "cell_type": "code",
   "execution_count": 3,
   "metadata": {
    "slideshow": {
     "slide_type": "fragment"
    }
   },
   "outputs": [
    {
     "data": {
      "text/plain": [
       "True"
      ]
     },
     "execution_count": 3,
     "metadata": {},
     "output_type": "execute_result"
    }
   ],
   "source": [
    "stm.is_green"
   ]
  },
  {
   "cell_type": "code",
   "execution_count": 4,
   "metadata": {
    "slideshow": {
     "slide_type": "fragment"
    }
   },
   "outputs": [
    {
     "name": "stdout",
     "output_type": "stream",
     "text": [
      "Can't stop when in Green. <class 'statemachine.exceptions.TransitionNotAllowed'>\n"
     ]
    }
   ],
   "source": [
    "try:\n",
    "    stm.stop()\n",
    "except Exception as e:\n",
    "    print(e, type(e))"
   ]
  },
  {
   "cell_type": "markdown",
   "metadata": {
    "slideshow": {
     "slide_type": "slide"
    }
   },
   "source": [
    "![semaphore cycle](diags/semaphore_cycle.svg)"
   ]
  },
  {
   "cell_type": "code",
   "execution_count": 5,
   "metadata": {
    "slideshow": {
     "slide_type": "subslide"
    }
   },
   "outputs": [],
   "source": [
    "from statemachine import StateMachine, State\n",
    "\n",
    "class TrafficLightMachine(StateMachine):\n",
    "    \"A traffic light machine\"\n",
    "    green = State('Green', initial=True)\n",
    "    yellow = State('Yellow')\n",
    "    red = State('Red')\n",
    "\n",
    "    cycle = green.to(yellow) | yellow.to(red) | red.to(green)\n",
    "\n",
    "    def on_enter_green(self):\n",
    "        print('Valendo!')\n",
    "\n",
    "    def on_enter_yellow(self):\n",
    "        print('Calma, lá!')\n",
    "\n",
    "    def on_enter_red(self):\n",
    "        print('Parou.')\n"
   ]
  },
  {
   "cell_type": "code",
   "execution_count": 6,
   "metadata": {
    "slideshow": {
     "slide_type": "subslide"
    }
   },
   "outputs": [
    {
     "name": "stdout",
     "output_type": "stream",
     "text": [
      "Calma, lá!\n",
      "Parou.\n",
      "Valendo!\n"
     ]
    }
   ],
   "source": [
    "stm = TrafficLightMachine()\n",
    "\n",
    "stm.cycle()\n",
    "stm.cycle()\n",
    "stm.cycle()"
   ]
  },
  {
   "cell_type": "markdown",
   "metadata": {
    "slideshow": {
     "slide_type": "slide"
    }
   },
   "source": [
    "## Solucionando o problema do sorter\n",
    "\n",
    "<img id=\"package_diag\" src=\"diags/package.svg\" class=\"full-width\">"
   ]
  },
  {
   "cell_type": "markdown",
   "metadata": {
    "slideshow": {
     "slide_type": "subslide"
    }
   },
   "source": [
    "``` python\n",
    "class PackageStateMachine(StateMachine):\n",
    "    # States\n",
    "    created = State('Criado', initial=True)\n",
    "    scanned = State('Escaneado')\n",
    "    measured = State('Medido')\n",
    "    waiting_routing = State('Aguardando roteirização')\n",
    "    routed = State('Roteirizado')\n",
    "    dispatched = State('Expedido')\n",
    "    rejected = State('Rejeitado')\n",
    "    unfit = State('Fora do perfil')\n",
    "    cancelled = State('Cancelado')\n",
    "```"
   ]
  },
  {
   "cell_type": "markdown",
   "metadata": {
    "slideshow": {
     "slide_type": "subslide"
    }
   },
   "source": [
    "Definimos as transições e os eventos:\n",
    "\n",
    "``` python\n",
    "    # transitions\n",
    "    scan = (\n",
    "        created.to(scanned, rejected) |\n",
    "        rejected.to(scanned, rejected) |\n",
    "        unfit.to(scanned, rejected)\n",
    "    )\n",
    "    measure = (\n",
    "        scanned.to(measured, unfit) |\n",
    "        rejected.to(rejected)\n",
    "    )\n",
    "    sort = (\n",
    "        measured.to(waiting_routing, rejected) |\n",
    "        unfit.to(unfit) |\n",
    "        rejected.to(unfit)\n",
    "    )\n",
    "    route = waiting_routing.to(routed)\n",
    "    dispatch = routed.to(dispatched)\n",
    "    status_changed = (\n",
    "        created.to(created, cancelled) |\n",
    "        dispatched.to(dispatched)\n",
    "    )\n",
    "    update = created.to(created) | rejected.to(rejected)\n",
    "```"
   ]
  },
  {
   "cell_type": "markdown",
   "metadata": {
    "slideshow": {
     "slide_type": "slide"
    }
   },
   "source": [
    "# Obrigado!\n",
    "\n",
    "Fernando Macedo\n",
    "\n",
    "@fgmacedo | fgmacedo@gmail.com\n",
    "\n",
    "\n",
    "## Hey, estamos contratando!\n",
    "\n",
    "<img src=\"loggi.png\" width=\"200px\">"
   ]
  }
 ],
 "metadata": {
  "celltoolbar": "Slideshow",
  "kernelspec": {
   "display_name": "Python 3",
   "language": "python",
   "name": "python3"
  },
  "language_info": {
   "codemirror_mode": {
    "name": "ipython",
    "version": 3
   },
   "file_extension": ".py",
   "mimetype": "text/x-python",
   "name": "python",
   "nbconvert_exporter": "python",
   "pygments_lexer": "ipython3",
   "version": "3.6.4"
  }
 },
 "nbformat": 4,
 "nbformat_minor": 2
}
