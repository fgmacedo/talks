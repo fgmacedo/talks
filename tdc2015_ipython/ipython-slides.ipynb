{
 "cells": [
  {
   "cell_type": "markdown",
   "metadata": {
    "slideshow": {
     "slide_type": "slide"
    }
   },
   "source": [
    "# IPython Notebook Show\n",
    "\n",
    "### Criando slides HTML5 de seus notebooks\n",
    "\n",
    "\n",
    "\n",
    "- Fernando Macedo\n",
    "- @fgmacedo\n",
    "- fgmacedo@gmail.com"
   ]
  },
  {
   "cell_type": "markdown",
   "metadata": {
    "slideshow": {
     "slide_type": "slide"
    }
   },
   "source": [
    "# ipython?\n",
    "\n",
    "Shell iterativo.\n",
    "\n",
    "<img src=\"images/ipython-terminal.png\" width=\"600px\" style=\"display: block; margin: 0 auto;\">\n"
   ]
  },
  {
   "cell_type": "markdown",
   "metadata": {
    "slideshow": {
     "slide_type": "subslide"
    }
   },
   "source": [
    "# ipython notebook?\n",
    "\n",
    "Ambiente interativo de computação. Muito utilizado para computação e análise de dados exploratória.\n",
    "\n",
    "<img src=\"images/ipython-notebook-specgram.png\"  width=\"600px\" style=\"display: block; margin: 0 auto;\">"
   ]
  },
  {
   "cell_type": "markdown",
   "metadata": {
    "slideshow": {
     "slide_type": "subslide"
    }
   },
   "source": [
    "<img src=\"images/jupyter-sq-text.svg\" width=\"200px\" style=\"float: right;\">\n",
    "\n",
    "# Jupyter?\n",
    "\n",
    "Evolução do IPython Project.\n",
    "\n",
    "Contém as partes do IPython que podem ser reaproveitadas para outras linguagens."
   ]
  },
  {
   "cell_type": "markdown",
   "metadata": {
    "slideshow": {
     "slide_type": "slide"
    }
   },
   "source": [
    "# Setup\n",
    "\n",
    "Execute: \n",
    "\n",
    "```\n",
    "pip install ipython[notebook]\n",
    "```"
   ]
  },
  {
   "cell_type": "markdown",
   "metadata": {
    "slideshow": {
     "slide_type": "slide"
    }
   },
   "source": [
    "# nbconvert\n",
    "\n",
    "Converte notebooks para outros formatos.\n",
    "\n",
    "```\n",
    "ipython nbconvert notebook.ipynb --to FORMAT\n",
    "```"
   ]
  },
  {
   "cell_type": "markdown",
   "metadata": {
    "slideshow": {
     "slide_type": "subslide"
    }
   },
   "source": [
    "# Formatos de saída\n",
    "\n",
    "```\n",
    " --to html\n",
    " --to latex\n",
    " --to slides\n",
    " --to markdonw\n",
    " --to python\n",
    " --to rst\n",
    "```"
   ]
  },
  {
   "cell_type": "markdown",
   "metadata": {
    "slideshow": {
     "slide_type": "fragment"
    }
   },
   "source": [
    "**`--to slides`** é o tema desta talk."
   ]
  },
  {
   "cell_type": "markdown",
   "metadata": {
    "slideshow": {
     "slide_type": "subslide"
    }
   },
   "source": [
    "# Créditos\n",
    "\n",
    "Damián Avila é o autor da ferramenta de conversão de notebooks para slides usando [reveal.js](http://lab.hakim.se/reveal-js):\n",
    "\n",
    "- [@damian_avila](https://twitter.com/damian_avila)"
   ]
  },
  {
   "cell_type": "markdown",
   "metadata": {
    "slideshow": {
     "slide_type": "slide"
    }
   },
   "source": [
    "# Markdown ou Python\n",
    "\n",
    "Você pode utilizar células em\n",
    "\n",
    "- **Markdown** ou;\n",
    "- **Code**.\n",
    "\n",
    "<img src=\"images/cell-type.png\"  width=\"306px\" style=\"display: block; margin: 0 auto;\">"
   ]
  },
  {
   "cell_type": "markdown",
   "metadata": {
    "slideshow": {
     "slide_type": "subslide"
    }
   },
   "source": [
    "# Markdown\n",
    "\n",
    "```\n",
    "# Markdown ou Python\n",
    "\n",
    "Você pode utilizar células em\n",
    "\n",
    "- **Markdown** ou;\n",
    "- **Code**.\n",
    "```"
   ]
  },
  {
   "cell_type": "code",
   "execution_count": 6,
   "metadata": {
    "collapsed": false,
    "slideshow": {
     "slide_type": "subslide"
    }
   },
   "outputs": [
    {
     "data": {
      "text/plain": [
       "[0, 1, 4, 9, 16, 25, 36, 49, 64, 81]"
      ]
     },
     "execution_count": 6,
     "metadata": {},
     "output_type": "execute_result"
    }
   ],
   "source": [
    "# Python\n",
    "\n",
    "values = [x**2 for x in range(10)]\n",
    "values"
   ]
  },
  {
   "cell_type": "markdown",
   "metadata": {
    "slideshow": {
     "slide_type": "slide"
    }
   },
   "source": [
    "# Cell toolbar\n",
    "\n",
    "Para habilitar os controles de slides, escolha a opção \"Slideshow\" na seleção \"Cell Toolbar\".\n",
    "\n",
    "<img src=\"images/cell-toolbar.png\"  width=\"496px\" style=\"display: block; margin: 0 auto;\">\n"
   ]
  },
  {
   "cell_type": "markdown",
   "metadata": {
    "slideshow": {
     "slide_type": "subslide"
    }
   },
   "source": [
    "# Cell toolbar\n",
    "\n",
    "Cada célula do notebook passa a ter um controle drop-down para escolha do tipo de slide:\n",
    "\n",
    "<img src=\"images/toolbar.png\"  width=\"236px\" style=\"display: block; margin: 0 auto;\">"
   ]
  },
  {
   "cell_type": "markdown",
   "metadata": {
    "slideshow": {
     "slide_type": "slide"
    }
   },
   "source": [
    "# Slides\n",
    "\n",
    "Slides são **alinhados horizontalmente** na apresentação.\n",
    "\n",
    "Para **navegar** use **seta para esquerda** e **seta para direita**."
   ]
  },
  {
   "cell_type": "markdown",
   "metadata": {
    "slideshow": {
     "slide_type": "subslide"
    }
   },
   "source": [
    "# Sub-slides\n",
    "\n",
    "Sub-slides são alinhados **verticalmente**.\n",
    "\n",
    "Pertencem a um grupo maior: um Slide.\n",
    "\n",
    "Você deve adicionar `Sub-slides` apenas após uma célula anterior ser marcada como `Slide`.\n",
    "\n",
    "Para **navegar** use **seta para cima** e **seta para baixo**."
   ]
  },
  {
   "cell_type": "markdown",
   "metadata": {
    "slideshow": {
     "slide_type": "slide"
    }
   },
   "source": [
    "# Fragments\n",
    "\n",
    "São elementos revelados passo-a-passo em um slide."
   ]
  },
  {
   "cell_type": "markdown",
   "metadata": {
    "slideshow": {
     "slide_type": "fragment"
    }
   },
   "source": [
    "- Você pode ter **múltiplos** Fragments em um slide;"
   ]
  },
  {
   "cell_type": "markdown",
   "metadata": {
    "slideshow": {
     "slide_type": "fragment"
    }
   },
   "source": [
    "- Para **navegar** use **seta para esquerda** e **seta para direita**."
   ]
  },
  {
   "cell_type": "markdown",
   "metadata": {
    "slideshow": {
     "slide_type": "slide"
    }
   },
   "source": [
    "# Skip\n",
    "\n",
    "Células marcadas com **Skip** ficam de fora da apresentação."
   ]
  },
  {
   "cell_type": "markdown",
   "metadata": {
    "slideshow": {
     "slide_type": "slide"
    }
   },
   "source": [
    "# Notes\n",
    "\n",
    "Anotações do apresentador. Exibidas no modo de apresentação.\n",
    "\n",
    "As notas **não serão renderizadas** na janela principal do slideshow.\n",
    "\n",
    "Pressione **\"s\"** no teclado e uma **nova janela** será exibida contendo o slide atual, o próximo, um timer e as notas do apresentador."
   ]
  },
  {
   "cell_type": "markdown",
   "metadata": {
    "slideshow": {
     "slide_type": "slide"
    }
   },
   "source": [
    "# Overview dos slides\n",
    "\n",
    "Para ter uma visão geral dos slides pressione **ESC**.\n",
    "\n",
    "Para escolher um slide, pressione **ENTER**."
   ]
  },
  {
   "cell_type": "markdown",
   "metadata": {
    "slideshow": {
     "slide_type": "slide"
    }
   },
   "source": [
    "# Distraction-free mode\n",
    "\n",
    "Para explicar alguma coisa para sua audiência sem interferência dos slides, pressione **\"b\"**."
   ]
  },
  {
   "cell_type": "markdown",
   "metadata": {
    "slideshow": {
     "slide_type": "slide"
    }
   },
   "source": [
    "# CSS personalizado\n",
    "\n",
    "Adicione um arquivo **`custom.css`** no mesmo diretório dos slides. Ex. Dobrar o tamanho da fonte:\n",
    "\n",
    "``` css\n",
    ".reveal {\n",
    "    font-size: 200%;\n",
    "}\n",
    "```"
   ]
  },
  {
   "cell_type": "markdown",
   "metadata": {
    "slideshow": {
     "slide_type": "slide"
    }
   },
   "source": [
    "# Deploy\n",
    "\n",
    "- Exportação para slides do IPython **não é compatível com reveal.js >= 3.0.0**.\n",
    "- Baixe a versão 2.6.2 do [reveal.js](http://lab.hakim.se/reveal-js/#/) em https://github.com/hakimel/reveal.js/releases/tag/2.6.2 (pode ser o .ZIP).\n",
    "\n",
    "- Extraia o conteúdo do arquivo **reveal.js-2.6.2.zip** e renomeie o diretório criado para **reveal.js**."
   ]
  },
  {
   "cell_type": "markdown",
   "metadata": {
    "slideshow": {
     "slide_type": "slide"
    }
   },
   "source": [
    "# Convertendo\n",
    "\n",
    "Padrão:\n",
    "```\n",
    "$ ipython nbconvert notebook.ipynb --to slides\n",
    "```"
   ]
  },
  {
   "cell_type": "markdown",
   "metadata": {
    "slideshow": {
     "slide_type": "fragment"
    }
   },
   "source": [
    "Servindo a partir do nbconvert:\n",
    "```\n",
    "$ ipython nbconvert notebook.ipynb --to slides --post serve\n",
    "```"
   ]
  },
  {
   "cell_type": "markdown",
   "metadata": {
    "slideshow": {
     "slide_type": "fragment"
    }
   },
   "source": [
    "Usando um CDN:\n",
    "```\n",
    "$ ipython nbconvert notebook.ipynb --to slides --reveal-prefix \"http://cdn.jsdelivr.net/reveal.js/2.6.2\"\n",
    "```"
   ]
  },
  {
   "cell_type": "markdown",
   "metadata": {
    "slideshow": {
     "slide_type": "slide"
    }
   },
   "source": [
    "# Obrigado!\n",
    "\n",
    "- Fernando Macedo\n",
    "- [@fgmacedo](https://twitter.com/fgmacedo)\n",
    "- fgmacedo@gmail.com"
   ]
  }
 ],
 "metadata": {
  "celltoolbar": "Slideshow",
  "kernelspec": {
   "display_name": "Python 2",
   "language": "python",
   "name": "python2"
  },
  "language_info": {
   "codemirror_mode": {
    "name": "ipython",
    "version": 2
   },
   "file_extension": ".py",
   "mimetype": "text/x-python",
   "name": "python",
   "nbconvert_exporter": "python",
   "pygments_lexer": "ipython2",
   "version": "2.7.6"
  }
 },
 "nbformat": 4,
 "nbformat_minor": 0
}
